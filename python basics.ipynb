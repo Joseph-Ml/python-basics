{
 "cells": [
  {
   "cell_type": "code",
   "execution_count": null,
   "id": "7f7e219b-e4dc-4491-8899-da2b1827f59c",
   "metadata": {},
   "outputs": [],
   "source": []
  },
  {
   "cell_type": "code",
   "execution_count": 2,
   "id": "108dc08e-22a5-4a61-ae97-cf5e46fbc727",
   "metadata": {},
   "outputs": [
    {
     "name": "stdin",
     "output_type": "stream",
     "text": [
      "please your name JOE\n",
      "please put in your age 21\n",
      "please Color BLUE\n"
     ]
    },
    {
     "name": "stdout",
     "output_type": "stream",
     "text": [
      "my name is JOE, i am 21 years old, my fav color is BLUE.\n"
     ]
    }
   ],
   "source": [
    "Name = input('please your name')\n",
    "Age = input ('please put in your age')\n",
    "color = input ('please Color')\n",
    "print(f'my name is {Name}, i am {Age} years old, my fav color is {color}.')"
   ]
  },
  {
   "cell_type": "code",
   "execution_count": 8,
   "id": "bc84e273-527d-4425-b977-854e02cb0d1d",
   "metadata": {},
   "outputs": [
    {
     "name": "stdin",
     "output_type": "stream",
     "text": [
      "hours spent 50\n",
      "wage 100\n"
     ]
    }
   ],
   "source": [
    " duration = float( input ('hours spent'))\n",
    " pay_per_hour=float( input ('wage'))"
   ]
  },
  {
   "cell_type": "code",
   "execution_count": 9,
   "id": "fd83b01d-32e5-439e-9906-49ef01e49dea",
   "metadata": {},
   "outputs": [
    {
     "name": "stdout",
     "output_type": "stream",
     "text": [
      "i worked for 50.0 hours and i earn 100.0 per hour\n"
     ]
    }
   ],
   "source": [
    "print (f'i worked for {duration} hours and i earn {pay_per_hour} per hour')"
   ]
  },
  {
   "cell_type": "code",
   "execution_count": 10,
   "id": "9182d739-33ca-4981-9a26-cfe34c1de2d8",
   "metadata": {},
   "outputs": [
    {
     "name": "stdout",
     "output_type": "stream",
     "text": [
      "my total wage is 5000.0\n"
     ]
    }
   ],
   "source": [
    "addition = duration + pay_per_hour\n",
    "difference = duration - pay_per_hour\n",
    "product = duration * pay_per_hour\n",
    "division = duration / pay_per_hour\n",
    "print(f'my total wage is {product}')"
   ]
  },
  {
   "cell_type": "code",
   "execution_count": 13,
   "id": "c062d26d-5772-4396-be8c-c14ecc85be94",
   "metadata": {},
   "outputs": [
    {
     "name": "stdout",
     "output_type": "stream",
     "text": [
      "ade\n",
      "ademid\n"
     ]
    }
   ],
   "source": [
    "#slicing strings\n",
    "b = 'ademide'\n",
    "print(b[:3])\n",
    "print(b[:-1])"
   ]
  },
  {
   "cell_type": "code",
   "execution_count": 15,
   "id": "b815c84d-ec25-455e-9ebf-64f55f436e85",
   "metadata": {},
   "outputs": [
    {
     "data": {
      "text/plain": [
       "3"
      ]
     },
     "execution_count": 15,
     "metadata": {},
     "output_type": "execute_result"
    }
   ],
   "source": [
    "import random\n",
    "random.randrange(2,6)"
   ]
  },
  {
   "cell_type": "code",
   "execution_count": 44,
   "id": "2403280c-292b-4053-a3a5-5375fe9c7de2",
   "metadata": {},
   "outputs": [
    {
     "data": {
      "text/plain": [
       "''"
      ]
     },
     "execution_count": 44,
     "metadata": {},
     "output_type": "execute_result"
    }
   ],
   "source": [
    "c = 'Joseph ME'\n",
    "c[(random.randrange(0,4)):(random.randrange(0,4))]"
   ]
  },
  {
   "cell_type": "code",
   "execution_count": 45,
   "id": "105204c6-f09b-4a15-b02d-9b7fe338d3c5",
   "metadata": {},
   "outputs": [
    {
     "data": {
      "text/plain": [
       "3"
      ]
     },
     "execution_count": 45,
     "metadata": {},
     "output_type": "execute_result"
    }
   ],
   "source": [
    "(random.randrange(0,4))"
   ]
  },
  {
   "cell_type": "code",
   "execution_count": 46,
   "id": "52d499da-c67e-4616-a26b-579b15699e00",
   "metadata": {},
   "outputs": [
    {
     "data": {
      "text/plain": [
       "'JOSEPH ME'"
      ]
     },
     "execution_count": 46,
     "metadata": {},
     "output_type": "execute_result"
    }
   ],
   "source": [
    "c.upper()"
   ]
  },
  {
   "cell_type": "code",
   "execution_count": 47,
   "id": "a91260a3-e2bd-4c4b-beec-1196b5254bdb",
   "metadata": {},
   "outputs": [
    {
     "data": {
      "text/plain": [
       "'joseph me'"
      ]
     },
     "execution_count": 47,
     "metadata": {},
     "output_type": "execute_result"
    }
   ],
   "source": [
    "c.lower()"
   ]
  },
  {
   "cell_type": "code",
   "execution_count": 48,
   "id": "cace4670-1e5a-4a25-88f1-9b43042eed01",
   "metadata": {},
   "outputs": [
    {
     "data": {
      "text/plain": [
       "'moseph ME'"
      ]
     },
     "execution_count": 48,
     "metadata": {},
     "output_type": "execute_result"
    }
   ],
   "source": [
    " c.replace(\"J\", \"m\")"
   ]
  },
  {
   "cell_type": "code",
   "execution_count": 49,
   "id": "a785576d-052c-40b1-ad6c-4b49704ff231",
   "metadata": {},
   "outputs": [
    {
     "data": {
      "text/plain": [
       "['Joseph ME']"
      ]
     },
     "execution_count": 49,
     "metadata": {},
     "output_type": "execute_result"
    }
   ],
   "source": [
    "c.split(\"  \")"
   ]
  },
  {
   "cell_type": "code",
   "execution_count": 54,
   "id": "e1fd41e5-f922-4521-8e41-d42b8ec5cd15",
   "metadata": {},
   "outputs": [],
   "source": [
    "AGE=[ 12, 11 , 10 , 5 , 55, 70,6, 40,7,80]\n"
   ]
  },
  {
   "cell_type": "code",
   "execution_count": 55,
   "id": "3dd8a7ec-750b-47e9-baeb-14dba52fcc2b",
   "metadata": {},
   "outputs": [
    {
     "data": {
      "text/plain": [
       "[12, 11, 10, 5, 55, 70, 6, 40, 7, 80]"
      ]
     },
     "execution_count": 55,
     "metadata": {},
     "output_type": "execute_result"
    }
   ],
   "source": [
    "AGE"
   ]
  },
  {
   "cell_type": "code",
   "execution_count": 67,
   "id": "4795ae2b-5349-4f08-99f2-06b354be0c32",
   "metadata": {},
   "outputs": [],
   "source": [
    "#SUM_OF_AGE= [12+ 11+ 10+ 5+ 55+ 70+ 6+ 40+ 7+ 80]\n",
    "#SUM_OF_AGE\n",
    "TOTAL_AGE= 0\n",
    "for i in AGE :\n",
    "    TOTAL_AGE += i\n",
    "   "
   ]
  },
  {
   "cell_type": "code",
   "execution_count": 68,
   "id": "8a14b1ea-722a-45f8-a1a0-accda5f9ab5d",
   "metadata": {},
   "outputs": [
    {
     "data": {
      "text/plain": [
       "296"
      ]
     },
     "execution_count": 68,
     "metadata": {},
     "output_type": "execute_result"
    }
   ],
   "source": [
    " TOTAL_AGE"
   ]
  },
  {
   "cell_type": "code",
   "execution_count": 65,
   "id": "0ba5c470-15f0-4637-a075-0678c86ada80",
   "metadata": {},
   "outputs": [
    {
     "name": "stdout",
     "output_type": "stream",
     "text": [
      "80\n"
     ]
    }
   ],
   "source": [
    "print(TOTAL_AGE)"
   ]
  },
  {
   "cell_type": "code",
   "execution_count": 74,
   "id": "1039d4dc-cc35-4987-bf17-7ec509f78652",
   "metadata": {},
   "outputs": [],
   "source": [
    "#PRODUCT_OF_AGE=[12* 11* 10* 5* 55* 70* 6* 40* 7* 80]\n",
    "#PRODUCT_OF_AGE\n",
    "TOTAL_AGE= 1\n",
    "for i in AGE :\n",
    "    TOTAL_AGE *= i\n"
   ]
  },
  {
   "cell_type": "code",
   "execution_count": 75,
   "id": "977b7856-91d9-490c-be8c-e183d7b8a08d",
   "metadata": {},
   "outputs": [
    {
     "data": {
      "text/plain": [
       "3415104000000"
      ]
     },
     "execution_count": 75,
     "metadata": {},
     "output_type": "execute_result"
    }
   ],
   "source": [
    "TOTAL_AGE"
   ]
  },
  {
   "cell_type": "code",
   "execution_count": 76,
   "id": "5684d3bc-19bd-4ac6-bd03-6fa131f548ce",
   "metadata": {},
   "outputs": [
    {
     "data": {
      "text/plain": [
       "2680"
      ]
     },
     "execution_count": 76,
     "metadata": {},
     "output_type": "execute_result"
    }
   ],
   "source": [
    "LUCKY_NUMBER = random.randrange(0,5000)\n",
    " "
   ]
  },
  {
   "cell_type": "code",
   "execution_count": 86,
   "id": "2a75d542-9765-4a85-a5ce-6594fdd3804c",
   "metadata": {},
   "outputs": [],
   "source": [
    "LUCKY_NUMBER = random.randrange(0,5000)\n",
    "def megalotto():\n",
    "    PLAYER_NUMBER = int(input('kindly input your lotto number:'))\n",
    "    if PLAYER_NUMBER == LUCKY_NUMBER:\n",
    "       print ('You win')\n",
    "    else:\n",
    "         print ('try again')"
   ]
  },
  {
   "cell_type": "code",
   "execution_count": 87,
   "id": "5dc71df7-31cb-484c-95cc-6a7946b25bc7",
   "metadata": {},
   "outputs": [
    {
     "name": "stdin",
     "output_type": "stream",
     "text": [
      "kindly input your lotto number: 1900\n"
     ]
    },
    {
     "name": "stdout",
     "output_type": "stream",
     "text": [
      "try again\n"
     ]
    }
   ],
   "source": [
    "megalotto()"
   ]
  },
  {
   "cell_type": "code",
   "execution_count": 9,
   "id": "fced7cf7-34dd-4d9d-9e8d-4f3a22ff8841",
   "metadata": {},
   "outputs": [],
   "source": [
    "items=[(\"book\",20), (\"pencil\",10), (\"Pen\",5)]"
   ]
  },
  {
   "cell_type": "code",
   "execution_count": 10,
   "id": "0c2d7d26-0aa0-4781-adfa-f509a9a961e7",
   "metadata": {},
   "outputs": [],
   "source": [
    "length_of_list =len(items)"
   ]
  },
  {
   "cell_type": "code",
   "execution_count": 11,
   "id": "39d1a3d2-5e94-40f1-ae3c-33c13e6af11b",
   "metadata": {},
   "outputs": [
    {
     "data": {
      "text/plain": [
       "3"
      ]
     },
     "execution_count": 11,
     "metadata": {},
     "output_type": "execute_result"
    }
   ],
   "source": [
    "length_of_list"
   ]
  },
  {
   "cell_type": "code",
   "execution_count": 12,
   "id": "0969f3e2-ea73-4bce-9ef3-c9d0d8b4ec1f",
   "metadata": {},
   "outputs": [
    {
     "name": "stdout",
     "output_type": "stream",
     "text": [
      "book : $20\n",
      "pencil : $10\n",
      "Pen : $5\n"
     ]
    }
   ],
   "source": [
    "for item, price in items:\n",
    "    print(f\"{item} : ${price}\")"
   ]
  },
  {
   "cell_type": "code",
   "execution_count": 13,
   "id": "aa5389bb-7a2d-4c07-bac7-0086cdb00a8d",
   "metadata": {},
   "outputs": [],
   "source": [
    "import pandas as pd"
   ]
  },
  {
   "cell_type": "code",
   "execution_count": 14,
   "id": "b934f856-106a-451f-aecd-b4413cb63550",
   "metadata": {},
   "outputs": [],
   "source": [
    "mydata= pd.DataFrame(items, columns = ('items', 'price'))"
   ]
  },
  {
   "cell_type": "code",
   "execution_count": 15,
   "id": "6ce50b19-7dbf-4e4c-8ed9-83fafa4632a5",
   "metadata": {},
   "outputs": [
    {
     "data": {
      "text/html": [
       "<div>\n",
       "<style scoped>\n",
       "    .dataframe tbody tr th:only-of-type {\n",
       "        vertical-align: middle;\n",
       "    }\n",
       "\n",
       "    .dataframe tbody tr th {\n",
       "        vertical-align: top;\n",
       "    }\n",
       "\n",
       "    .dataframe thead th {\n",
       "        text-align: right;\n",
       "    }\n",
       "</style>\n",
       "<table border=\"1\" class=\"dataframe\">\n",
       "  <thead>\n",
       "    <tr style=\"text-align: right;\">\n",
       "      <th></th>\n",
       "      <th>items</th>\n",
       "      <th>price</th>\n",
       "    </tr>\n",
       "  </thead>\n",
       "  <tbody>\n",
       "    <tr>\n",
       "      <th>0</th>\n",
       "      <td>book</td>\n",
       "      <td>20</td>\n",
       "    </tr>\n",
       "    <tr>\n",
       "      <th>1</th>\n",
       "      <td>pencil</td>\n",
       "      <td>10</td>\n",
       "    </tr>\n",
       "    <tr>\n",
       "      <th>2</th>\n",
       "      <td>Pen</td>\n",
       "      <td>5</td>\n",
       "    </tr>\n",
       "  </tbody>\n",
       "</table>\n",
       "</div>"
      ],
      "text/plain": [
       "    items  price\n",
       "0    book     20\n",
       "1  pencil     10\n",
       "2     Pen      5"
      ]
     },
     "execution_count": 15,
     "metadata": {},
     "output_type": "execute_result"
    }
   ],
   "source": [
    "mydata"
   ]
  },
  {
   "cell_type": "code",
   "execution_count": 16,
   "id": "82501eed-452d-41ce-9c70-15545659b5e3",
   "metadata": {},
   "outputs": [
    {
     "data": {
      "text/plain": [
       "[('book', 20), ('pencil', 10), ('Pen', 5)]"
      ]
     },
     "execution_count": 16,
     "metadata": {},
     "output_type": "execute_result"
    }
   ],
   "source": [
    "items"
   ]
  },
  {
   "cell_type": "code",
   "execution_count": 17,
   "id": "1dd757d4-460c-42b9-9136-1b04c02ced4c",
   "metadata": {},
   "outputs": [],
   "source": [
    "mytuple= ('apple','banana','cherry')\n",
    "mylist = list(mytuple)\n",
    "mylist[1] = ('kiwi')"
   ]
  },
  {
   "cell_type": "code",
   "execution_count": 18,
   "id": "5a656604-7ae1-4748-82bf-6366e0c25d57",
   "metadata": {},
   "outputs": [
    {
     "data": {
      "text/plain": [
       "['apple', 'kiwi', 'cherry']"
      ]
     },
     "execution_count": 18,
     "metadata": {},
     "output_type": "execute_result"
    }
   ],
   "source": [
    "mylist"
   ]
  },
  {
   "cell_type": "code",
   "execution_count": null,
   "id": "82be880e-5e82-4a72-bdcd-717d79abcd5c",
   "metadata": {},
   "outputs": [],
   "source": []
  },
  {
   "cell_type": "code",
   "execution_count": null,
   "id": "ebfe1de9-11ae-42cc-9eda-42044fa99f74",
   "metadata": {},
   "outputs": [],
   "source": []
  }
 ],
 "metadata": {
  "kernelspec": {
   "display_name": "Python 3 (ipykernel)",
   "language": "python",
   "name": "python3"
  },
  "language_info": {
   "codemirror_mode": {
    "name": "ipython",
    "version": 3
   },
   "file_extension": ".py",
   "mimetype": "text/x-python",
   "name": "python",
   "nbconvert_exporter": "python",
   "pygments_lexer": "ipython3",
   "version": "3.11.7"
  }
 },
 "nbformat": 4,
 "nbformat_minor": 5
}
